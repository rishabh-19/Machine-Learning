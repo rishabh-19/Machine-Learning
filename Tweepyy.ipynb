{
  "nbformat": 4,
  "nbformat_minor": 0,
  "metadata": {
    "colab": {
      "name": "Tweepy.ipynb",
      "version": "0.3.2",
      "provenance": [],
      "collapsed_sections": [],
      "include_colab_link": true
    },
    "kernelspec": {
      "name": "python3",
      "display_name": "Python 3"
    }
  },
  "cells": [
    {
      "cell_type": "markdown",
      "metadata": {
        "id": "view-in-github",
        "colab_type": "text"
      },
      "source": [
        "<a href=\"https://colab.research.google.com/github/rishabh-19/Machine-Learning/blob/master/Tweepyy.ipynb\" target=\"_parent\"><img src=\"https://colab.research.google.com/assets/colab-badge.svg\" alt=\"Open In Colab\"/></a>"
      ]
    },
    {
      "cell_type": "markdown",
      "metadata": {
        "id": "ZOGakcXZWukV",
        "colab_type": "text"
      },
      "source": [
        "SENTIMENT ANALYSIS FROM TWITTER API\n"
      ]
    },
    {
      "cell_type": "code",
      "metadata": {
        "id": "XQfzvnXmGNyY",
        "colab_type": "code",
        "colab": {}
      },
      "source": [
        "import tweepy\n",
        "import matplotlib.pyplot as plt\n",
        "import time\n",
        "from textblob import TextBlob"
      ],
      "execution_count": 0,
      "outputs": []
    },
    {
      "cell_type": "code",
      "metadata": {
        "id": "ODY5ElspI49l",
        "colab_type": "code",
        "colab": {
          "base_uri": "https://localhost:8080/",
          "height": 672
        },
        "outputId": "52fd4178-a3bc-4c4c-c5e8-570eeda7e789"
      },
      "source": [
        "#all 4 authentication keys to access twitter API\n",
        "#to connect as OATH handler or jump server / reverse proxy server\n",
        "consumer_key='UwFy9bbITnfslsfdnl51xobSjmBLL5JWfk'\n",
        "consumer_sec='lanaAB248Ap7Q15EsdfdslFWvrCRnSY2VaDzZ5xzmkN8JXFrdDr7tPaL'\n",
        "\n",
        "\n",
        "#from proxy server we need to connect to web server of twitter\n",
        "access_token='11364422376241029sdfssf14-cRAwcfstY1BxjVcN80RcZikKSBmkrH'\n",
        "access_sec='A80x5e21sauOAoYVE32fdsff5u4eTUUx17G5zDUoioQQfDbFCI7V'\n",
        "\n",
        "\n",
        "#tweepy explore--\n",
        "#connecting to jump server of twitter\n",
        "auth=tweepy.OAuthHandler(consumer_key,consumer_sec)\n",
        "\n",
        "\n",
        "#now we can connect from jump server to web  server of twitter\n",
        "auth.set_access_token(access_token,access_sec)\n",
        "\n",
        "\n",
        "\n",
        "#now we can connect to API storage server of twitter\n",
        "api_connect=tweepy.API(auth)\n",
        "\n",
        "\n",
        "#now you can search any topic on twitter\n",
        "tweet_data=api_connect.search('dhoni',count=20)\n",
        "\n",
        "pos=0\n",
        "neg=0\n",
        "neu=0\n",
        "#printing line by line\n",
        "for tweet in tweet_data:\n",
        "  #print(tweet.text)\n",
        "  analysis=TextBlob(tweet.text)   #NLP is applied\n",
        "  print(analysis.sentiment)\n",
        "  # now checking polarity only\n",
        "  if analysis.sentiment.polarity > 0:\n",
        "    print(\"positive\")\n",
        "    pos=pos+1\n",
        "  elif analysis.sentiment.polarity == 0:\n",
        "    print(\"Neutral\")\n",
        "    neu=neu+1\n",
        "  else:\n",
        "    print(\"negative\")\n",
        "    neg=neg+1\n",
        "\n",
        "\n",
        "  \n",
        "  "
      ],
      "execution_count": 14,
      "outputs": [
        {
          "output_type": "stream",
          "text": [
            "Sentiment(polarity=0.0, subjectivity=0.0)\n",
            "Neutral\n",
            "Sentiment(polarity=0.0, subjectivity=0.1)\n",
            "Neutral\n",
            "Sentiment(polarity=0.43526785714285715, subjectivity=0.45238095238095233)\n",
            "positive\n",
            "Sentiment(polarity=0.0, subjectivity=0.1)\n",
            "Neutral\n",
            "Sentiment(polarity=0.0, subjectivity=0.0)\n",
            "Neutral\n",
            "Sentiment(polarity=0.0, subjectivity=0.0)\n",
            "Neutral\n",
            "Sentiment(polarity=1.0, subjectivity=0.3)\n",
            "positive\n",
            "Sentiment(polarity=0.0, subjectivity=0.0)\n",
            "Neutral\n",
            "Sentiment(polarity=0.25, subjectivity=0.6)\n",
            "positive\n",
            "Sentiment(polarity=0.0, subjectivity=0.0)\n",
            "Neutral\n",
            "Sentiment(polarity=0.43526785714285715, subjectivity=0.45238095238095233)\n",
            "positive\n",
            "Sentiment(polarity=0.0, subjectivity=0.0)\n",
            "Neutral\n",
            "Sentiment(polarity=0.41666666666666663, subjectivity=0.5833333333333333)\n",
            "positive\n",
            "Sentiment(polarity=0.43526785714285715, subjectivity=0.45238095238095233)\n",
            "positive\n",
            "Sentiment(polarity=0.0, subjectivity=0.0)\n",
            "Neutral\n",
            "Sentiment(polarity=0.0, subjectivity=0.0)\n",
            "Neutral\n",
            "Sentiment(polarity=1.0, subjectivity=0.3)\n",
            "positive\n",
            "Sentiment(polarity=0.5, subjectivity=1.0)\n",
            "positive\n"
          ],
          "name": "stdout"
        }
      ]
    },
    {
      "cell_type": "code",
      "metadata": {
        "id": "iYA999xDTKIU",
        "colab_type": "code",
        "colab": {
          "base_uri": "https://localhost:8080/",
          "height": 302
        },
        "outputId": "b321f3d3-c163-4b33-9059-5f08ef6eb733"
      },
      "source": [
        "#plotting graph\n",
        "plt.xlabel('Tags')\n",
        "plt.ylabel('Polarity')\n",
        "plt.bar(['pos','neg','neu'],(pos,neg,neu))\n",
        "print(\"----\")\n",
        "#plt.pie([pos,neg,neu],labels=['pos','neg','neu'],autopct='%1.1f%%')"
      ],
      "execution_count": 15,
      "outputs": [
        {
          "output_type": "stream",
          "text": [
            "----\n"
          ],
          "name": "stdout"
        },
        {
          "output_type": "display_data",
          "data": {
            "image/png": "[encoded data removed]",
            "text/plain": [
              "<Figure size 432x288 with 1 Axes>"
            ]
          },
          "metadata": {
            "tags": []
          }
        }
      ]
    },
    {
      "cell_type": "code",
      "metadata": {
        "id": "gME7ymUOU50d",
        "colab_type": "code",
        "colab": {}
      },
      "source": [
        ""
      ],
      "execution_count": 0,
      "outputs": []
    }
  ]
}