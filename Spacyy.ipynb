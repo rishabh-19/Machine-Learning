{
  "nbformat": 4,
  "nbformat_minor": 0,
  "metadata": {
    "colab": {
      "name": "Spacyy.ipynb",
      "version": "0.3.2",
      "provenance": [],
      "include_colab_link": true
    },
    "kernelspec": {
      "name": "python3",
      "display_name": "Python 3"
    }
  },
  "cells": [
    {
      "cell_type": "markdown",
      "metadata": {
        "id": "view-in-github",
        "colab_type": "text"
      },
      "source": [
        "<a href=\"https://colab.research.google.com/github/rishabh-19/Machine-Learning/blob/master/Spacyy.ipynb\" target=\"_parent\"><img src=\"https://colab.research.google.com/assets/colab-badge.svg\" alt=\"Open In Colab\"/></a>"
      ]
    },
    {
      "cell_type": "code",
      "metadata": {
        "id": "V-VjOmkgegaQ",
        "colab_type": "code",
        "colab": {}
      },
      "source": [
        "import spacy"
      ],
      "execution_count": 0,
      "outputs": []
    },
    {
      "cell_type": "code",
      "metadata": {
        "id": "uuddJFUOeiJm",
        "colab_type": "code",
        "colab": {}
      },
      "source": [
        "#language en --\n",
        "nlp=spacy.load('en')"
      ],
      "execution_count": 0,
      "outputs": []
    },
    {
      "cell_type": "markdown",
      "metadata": {
        "id": "EdHktxh8flV7",
        "colab_type": "text"
      },
      "source": [
        "AUTOMATIC TOKENIZE"
      ]
    },
    {
      "cell_type": "code",
      "metadata": {
        "id": "arOZ5ab0fHJt",
        "colab_type": "code",
        "colab": {}
      },
      "source": [
        "data=\"hello world i am going out side for playing\""
      ],
      "execution_count": 0,
      "outputs": []
    },
    {
      "cell_type": "code",
      "metadata": {
        "id": "y2S0y0YHfRSR",
        "colab_type": "code",
        "colab": {}
      },
      "source": [
        "new_data=nlp(data)"
      ],
      "execution_count": 0,
      "outputs": []
    },
    {
      "cell_type": "code",
      "metadata": {
        "id": "VmC8XLP_fSgG",
        "colab_type": "code",
        "outputId": "e3bb51d2-4052-48bb-e442-c66e3ce5adc8",
        "colab": {
          "base_uri": "https://localhost:8080/",
          "height": 508
        }
      },
      "source": [
        "for i in new_data:\n",
        "  print(i,\"lemmatization of word is --> \", i.lemma_)\n",
        "  print(\"-----------\")\n",
        "  print(i,\"Part of Speech -->\", i.pos_)"
      ],
      "execution_count": 0,
      "outputs": [
        {
          "output_type": "stream",
          "text": [
            "hello lemmatization of word is -->  hello\n",
            "-----------\n",
            "hello Part of Speech --> INTJ\n",
            "world lemmatization of word is -->  world\n",
            "-----------\n",
            "world Part of Speech --> NOUN\n",
            "i lemmatization of word is -->  i\n",
            "-----------\n",
            "i Part of Speech --> PRON\n",
            "am lemmatization of word is -->  be\n",
            "-----------\n",
            "am Part of Speech --> VERB\n",
            "going lemmatization of word is -->  go\n",
            "-----------\n",
            "going Part of Speech --> VERB\n",
            "out lemmatization of word is -->  out\n",
            "-----------\n",
            "out Part of Speech --> PART\n",
            "side lemmatization of word is -->  side\n",
            "-----------\n",
            "side Part of Speech --> NOUN\n",
            "for lemmatization of word is -->  for\n",
            "-----------\n",
            "for Part of Speech --> ADP\n",
            "playing lemmatization of word is -->  play\n",
            "-----------\n",
            "playing Part of Speech --> VERB\n"
          ],
          "name": "stdout"
        }
      ]
    },
    {
      "cell_type": "code",
      "metadata": {
        "id": "p1oEYvClfdfQ",
        "colab_type": "code",
        "colab": {}
      },
      "source": [
        ""
      ],
      "execution_count": 0,
      "outputs": []
    }
  ]
}